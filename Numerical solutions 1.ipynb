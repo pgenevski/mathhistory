{
 "cells": [
  {
   "cell_type": "code",
   "execution_count": 59,
   "metadata": {},
   "outputs": [],
   "source": [
    "#       _ 2 _ 3\n",
    "#  x       _ _\n",
    "# ______________\n",
    "#   _ _ _ _ 8 7 \n",
    "# + _ _ _ _ _ _ \n",
    "# ______________\n",
    "#   2 _ 0 0 4 _ \n",
    "\n",
    "\n",
    "import numpy as np\n",
    "from itertools import product\n",
    "\n",
    "def nth_digit(number,n):\n",
    "    s = str(number)\n",
    "    return 0 if(len(s) < n) else int(s[-n])"
   ]
  },
  {
   "cell_type": "code",
   "execution_count": 63,
   "metadata": {},
   "outputs": [
    {
     "name": "stdout",
     "output_type": "stream",
     "text": [
      "7243 x 29 = 210047 (p1 = 65187, p2=14486)\n"
     ]
    }
   ],
   "source": [
    "a = [thousands * 1000 + 200 + tens * 10 + 3 for thousands,tens in list(product(np.arange(1,10), np.arange(10)))]\n",
    "b = np.arange(10,100)\n",
    "\n",
    "for a,b in list(product(a,b)):\n",
    "    p = a*b\n",
    "    if nth_digit(p,6) == 2 and nth_digit(p,4) == 0 and nth_digit(p,3) == 0 and nth_digit(p,2) == 4:\n",
    "        p1 = nth_digit(b,1) * a\n",
    "        if(nth_digit(p1,1) == 7 and nth_digit(p1,2) == 8):\n",
    "            p2 = nth_digit(b,2) * a\n",
    "            print('{} x {} = {} (p1 = {}, p2={})'.format(a,b,p,p1,p2))"
   ]
  },
  {
   "cell_type": "code",
   "execution_count": null,
   "metadata": {},
   "outputs": [],
   "source": []
  },
  {
   "cell_type": "code",
   "execution_count": null,
   "metadata": {},
   "outputs": [],
   "source": []
  }
 ],
 "metadata": {
  "kernelspec": {
   "display_name": "Python 3",
   "language": "python",
   "name": "python3"
  },
  "language_info": {
   "codemirror_mode": {
    "name": "ipython",
    "version": 3
   },
   "file_extension": ".py",
   "mimetype": "text/x-python",
   "name": "python",
   "nbconvert_exporter": "python",
   "pygments_lexer": "ipython3",
   "version": "3.6.3"
  }
 },
 "nbformat": 4,
 "nbformat_minor": 2
}
