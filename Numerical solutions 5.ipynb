{
 "cells": [
  {
   "cell_type": "code",
   "execution_count": 1,
   "metadata": {},
   "outputs": [],
   "source": [
    "#   Т Р У Д\n",
    "# + Т Р У Д\n",
    "#   Т Р У Д\n",
    "# __________\n",
    "# У С П Е Х\n",
    "\n",
    "\n",
    "import numpy as np\n",
    "from itertools import permutations"
   ]
  },
  {
   "cell_type": "code",
   "execution_count": 5,
   "metadata": {},
   "outputs": [
    {
     "data": {
      "text/plain": [
       "[(1, 6, 0, 9, 4, 8, 2, 7),\n",
       " (1, 8, 0, 9, 5, 4, 2, 7),\n",
       " (1, 9, 0, 8, 5, 7, 2, 4),\n",
       " (3, 4, 1, 9, 0, 2, 5, 7),\n",
       " (3, 6, 1, 9, 0, 8, 5, 7),\n",
       " (4, 6, 1, 9, 3, 8, 5, 7),\n",
       " (5, 8, 1, 2, 7, 4, 3, 6)]"
      ]
     },
     "execution_count": 5,
     "metadata": {},
     "output_type": "execute_result"
    }
   ],
   "source": [
    "def valid_tuples():\n",
    "    for Т,Р,У,Д,С,П,Е,Х in permutations(np.arange(10),8):\n",
    "        if 3*(1000*Т + 100*Р + 10*У + Д) == 10000*У + 1000*С + 100*П + 10*Е + Х:\n",
    "            yield (Т,Р,У,Д,С,П,Е,Х)\n",
    "        else:\n",
    "            continue\n",
    "            \n",
    "solutions = list(valid_tuples())\n",
    "solutions"
   ]
  },
  {
   "cell_type": "code",
   "execution_count": null,
   "metadata": {},
   "outputs": [],
   "source": []
  },
  {
   "cell_type": "code",
   "execution_count": null,
   "metadata": {},
   "outputs": [],
   "source": []
  }
 ],
 "metadata": {
  "kernelspec": {
   "display_name": "Python 3",
   "language": "python",
   "name": "python3"
  },
  "language_info": {
   "codemirror_mode": {
    "name": "ipython",
    "version": 3
   },
   "file_extension": ".py",
   "mimetype": "text/x-python",
   "name": "python",
   "nbconvert_exporter": "python",
   "pygments_lexer": "ipython3",
   "version": "3.6.3"
  }
 },
 "nbformat": 4,
 "nbformat_minor": 2
}
