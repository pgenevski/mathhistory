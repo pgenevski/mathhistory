{
 "cells": [
  {
   "cell_type": "code",
   "execution_count": 2,
   "metadata": {},
   "outputs": [],
   "source": [
    "#   C M E X\n",
    "# +   M И М  \n",
    "# __________\n",
    "#   Е Е Е Е\n",
    "\n",
    "\n",
    "import numpy as np\n",
    "from itertools import permutations"
   ]
  },
  {
   "cell_type": "code",
   "execution_count": 8,
   "metadata": {},
   "outputs": [
    {
     "data": {
      "text/plain": [
       "[(0, 5, 1, 6, 9), (2, 6, 3, 7, 9), (4, 7, 5, 8, 9)]"
      ]
     },
     "execution_count": 8,
     "metadata": {},
     "output_type": "execute_result"
    }
   ],
   "source": [
    "def valid_tuples():\n",
    "    for С, М, Е, Х ,И in permutations(np.arange(10),5):\n",
    "        if 1000*С+ 100*(М+М) + 10*(Е+И) + Х+М == 1000*Е + 100*Е + 10*Е + Е:\n",
    "            yield (С, М, Е, Х ,И)\n",
    "        else:\n",
    "            continue\n",
    "            \n",
    "solutions = list(valid_tuples())\n",
    "solutions"
   ]
  },
  {
   "cell_type": "code",
   "execution_count": null,
   "metadata": {},
   "outputs": [],
   "source": []
  },
  {
   "cell_type": "code",
   "execution_count": null,
   "metadata": {},
   "outputs": [],
   "source": []
  }
 ],
 "metadata": {
  "kernelspec": {
   "display_name": "Python 3",
   "language": "python",
   "name": "python3"
  },
  "language_info": {
   "codemirror_mode": {
    "name": "ipython",
    "version": 3
   },
   "file_extension": ".py",
   "mimetype": "text/x-python",
   "name": "python",
   "nbconvert_exporter": "python",
   "pygments_lexer": "ipython3",
   "version": "3.6.3"
  }
 },
 "nbformat": 4,
 "nbformat_minor": 2
}
