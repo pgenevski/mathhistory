{
 "cells": [
  {
   "cell_type": "code",
   "execution_count": 59,
   "metadata": {},
   "outputs": [],
   "source": [
    "#    B D C E\n",
    "#  + A A A A\n",
    "#    B D A E\n",
    "# __________\n",
    "#  A E C B E\n",
    "\n",
    "\n",
    "import numpy as np\n",
    "from itertools import permutations,product,combinations"
   ]
  },
  {
   "cell_type": "code",
   "execution_count": 60,
   "metadata": {},
   "outputs": [
    {
     "data": {
      "text/plain": [
       "[]"
      ]
     },
     "execution_count": 60,
     "metadata": {},
     "output_type": "execute_result"
    }
   ],
   "source": [
    "def valid_tuples(input):\n",
    "    for a,b,c,d,e in input:\n",
    "        if e + a + e + 10*(c + a + a) + 100*(d + a + d) + 1000*(b + a + b) == e + 10*b + 100*c + 1000*e + 10000*a:\n",
    "            yield (a,b,c,d,e)\n",
    "        else:\n",
    "            continue\n",
    "            \n",
    "solutions = list(valid_tuples(permutations(np.arange(10),5)))\n",
    "solutions"
   ]
  },
  {
   "cell_type": "code",
   "execution_count": null,
   "metadata": {},
   "outputs": [],
   "source": []
  },
  {
   "cell_type": "code",
   "execution_count": null,
   "metadata": {},
   "outputs": [],
   "source": []
  }
 ],
 "metadata": {
  "kernelspec": {
   "display_name": "Python 3",
   "language": "python",
   "name": "python3"
  },
  "language_info": {
   "codemirror_mode": {
    "name": "ipython",
    "version": 3
   },
   "file_extension": ".py",
   "mimetype": "text/x-python",
   "name": "python",
   "nbconvert_exporter": "python",
   "pygments_lexer": "ipython3",
   "version": "3.6.3"
  }
 },
 "nbformat": 4,
 "nbformat_minor": 2
}
